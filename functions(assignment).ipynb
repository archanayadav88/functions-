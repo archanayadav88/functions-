{
  "nbformat": 4,
  "nbformat_minor": 0,
  "metadata": {
    "colab": {
      "provenance": []
    },
    "kernelspec": {
      "name": "python3",
      "display_name": "Python 3"
    },
    "language_info": {
      "name": "python"
    }
  },
  "cells": [
    {
      "cell_type": "markdown",
      "source": [
        "**THEORY QUESTIONS:-**\n",
        "Q:1. What is the difference between a function and a method in Python?\n",
        "ANS:`FUNCTION`:-Functions are a block of statements that does a specific task.\n",
        "It is defined using the def keyword (or sometimes with lambda). The def keyword stands for define.It is used to create a user-defined function.\n",
        "**EXAMPLE**:-def fun():\n",
        "             print(\"welcome to pw skills\")\n",
        "`METHOD`:A method is a function that is defined inside a class and is associated with objects (instances) of that class.Methods automatically take the object itself (self) as their first argument, so they can access or modify the object's data (attributes).Methods are essentially functions bound to objects.**Example**:class Person:\n",
        "                       def __init__(self, name):\n",
        "                            self.name = name\n",
        "\n",
        "                             def greet(self):  # this is a method\n",
        "                                 return f\"Hello, {self.name}!\"\n",
        "\n",
        "Q:2. Explain the concept of function arguments and parameters in Python.\n",
        "ANS:`PARAMETERS`:-Parameters are the names used in the function definition.\n",
        "They act as placeholders for the values that will be passed to the function.Parameters are variables defined in a function declaration. This act as placeholders for the values (arguments) that will be passed to the function.\n",
        "**Example**:def add(a, b):  # a and b are parameters\n",
        "            return a + b\n",
        "`ARGUMENTS`:-Arguments are the actual values you pass to a function when calling it.\n",
        "These values get assigned to the function's parameters.Arguments are the actual values that you pass to the function when you call it. These values replace the parameters defined in the function.\n",
        "**Example**:result = add(5, 10)  # 5 and 10 are arguments\n",
        "             print(result)        \n",
        "\n",
        "Q:3. What are the different ways to define and call a function in Python?\n",
        "ANS:functions are blocks of reusable code that perform a specific task. There are several ways to define and call functions depending on the use case.\n",
        "`Ways to Define a Function in Python`:-\n",
        "1)Using \"def\"\"\n",
        "2)Using \"lambda\"\n",
        "3)Using def with default argument\n",
        "4)Using \"*args\" and \"**kwargs\"\n",
        "5)Nested Functions\n",
        "6)Using (functools.partial)\n",
        "`Ways to call a Function in Python:-`\n",
        "1)direct call with arguments\n",
        "2)call with default arguments\n",
        "3)call with keyword arguments\n",
        "4)Call with unpacking (*args / **kwargs)\n",
        "5)Recursive call\n",
        "6)Calling via function object\n",
        "\n",
        "Q:4. What is the purpose of the `return` statement in a Python function?\n",
        "ANS:The return statement in a Python function is used to send a value (or multiple values) back to the caller of the function.\n",
        "If the return statement is without any expression, then the special value None is returned.\n",
        "**EXAMPLE**:-\n",
        "def add(a, b):\n",
        "    return a+b\n",
        "result = add(5, 3)\n",
        "print(result)\n",
        "\n",
        "Q:5. What are iterators in Python and how do they differ from iterables?\n",
        "ANS:`ITERATORS`:-An iterator is an object that allows you to traverse (iterate over) elements of a collection one at a time.An iterator is like a bookmark or a pointer that remembers where you are in a sequence.Method:-__iter__() and __next__()\n",
        "EXAMPLE:-\n",
        "numbers = [1, 2, 3]\n",
        "it = iter(numbers)   # creates an iterator from the list\n",
        "print(next(it))  \n",
        "print(next(it))  \n",
        "print(next(it))\n",
        "\n",
        "`ITERABLES:-`An iterable is any Python object capable of returning its members one at a time.Examples: lists, tuples, strings, dictionaries, sets, ranges.You can loop over iterables with a for loop,but an iterable itself does not keep track of iteration state.Method:-__iter__()\n",
        "EXAMPLE:-\n",
        "numbers = [1, 2, 3]   # a list is iterable\n",
        "for n in numbers:\n",
        "    print(n)\n",
        "\n",
        "Q:6. Explain the concept of generators in Python and how they are defined.\n",
        "ANS:A generator is a special type of iterator in Python.It allows you to generate values on the fly instead of storing everything in memory.Instead of using return to send back a single value, generator functions use yield to produce a series of results over time.\n",
        "HOW ARE GENERATORS DEFINED:-\n",
        "There are two ways-\n",
        "1. Generator Functions:Defined like a normal function but use the yield keyword instead of return.Each time yield is executed, the function “pauses” its state and resumes from the same point when called again.\n",
        "Example:\n",
        "def countdown(n):\n",
        "    while n > 0:\n",
        "        yield n\n",
        "        n -= 1\n",
        " gen = countdown(5)\n",
        "for num in gen:\n",
        "    print(num)\n",
        "2. Generator Expressions: Generator expressions are similar to list comprehensions, but use parentheses () instead of square brackets [].More concise for simple generators.\n",
        "Example:\n",
        "squares = (x*x for x in range(5))\n",
        "for val in squares:\n",
        "    print(val)\n",
        "\n",
        "Q:7. What are the advantages of using generators over regular functions?\n",
        "ANS:`Advantages of Generators Over Regular functions:-`\n",
        "There are several advantages to using generators over regular loops. Here are a few of the most important ones:-\n",
        "1)Memory efficiency:-\n",
        "Since a generator yields its values one by one, it does not need to store all of the values in memory at once. This can be especially useful when working with large data sets, as it reduces the risk of running out of memory.\n",
        "\n",
        "2)Readability:-\n",
        "Generators can make your code easier to read and understand. By breaking up the iteration process into smaller chunks, you can write code that is more concise and easier to follow.\n",
        "\n",
        "3)Speed:-\n",
        "Generators can also be faster than regular functions, especially when working with large data sets.\n",
        "\n",
        "4)Cleaner Code for Iterators:-\n",
        "Instead of creating a custom iterator class with __iter__() and __next__(), generators let you write concise code with yield.\n",
        "\n",
        "5)Infinite Sequences:-\n",
        "Regular functions can not return infinite data because lists must end.\n",
        "Generators can represent infinite streams since they yield values one at a time.\n",
        "EXAMPLE:-\n",
        "def infinite_numbers():\n",
        "    n = 0\n",
        "    while True:\n",
        "        yield n\n",
        "        n += 1\n",
        "\n",
        "Q:8. What is a lambda function in Python and when is it typically used?\n",
        "ANS:A `lambda function` in Python is a small, anonymous function that is defined using the \"keyword lambda\" instead of \"def\".\n",
        "**SYNTAX:-**lambda arguments: expression.\n",
        "IT IS TYPICALLY USED AS:\n",
        "1)With functions like map(), filter(), and reduce()\n",
        "nums = [1, 2, 3, 4, 5]\n",
        "squares = list(map(lambda x: x**2, nums))\n",
        "print(squares)  # [1, 4, 9, 16, 25]\n",
        "\n",
        "2)Sorting with custom keys (sorted())\n",
        "words = [\"banana\", \"apple\", \"cherry\"]\n",
        "sorted_words = sorted(words, key=lambda w: len(w))\n",
        "print(sorted_words)  # ['apple', 'banana', 'cherry']\n",
        "\n",
        "3)Event handling or inline logic\n",
        "button = {\"on_click\": lambda: print(\"Button clicked!\")}\n",
        "button[\"on_click\"]()  # Output: Button clicked!\n",
        "\n",
        "USE LAMBDAS FOR: Small, simple expressions, one-off tasks, and when the function is only used once in a specific context\n",
        "\n",
        "\n",
        "Q:9. Explain the purpose and usage of the `map()` function in Python.\n",
        "ANS:The map() function in Python is used to apply a function to every item of an iterable (like a list, tuple, or string) and return a map object (an iterator).\n",
        "**SYNTAX:**-map(function, iterable, ...)\n",
        "The map() function is used to apply a function to each element of one or more iterables, returning a map object that generates transformed values on demand.\n",
        "IT CAN BE USE AS:\n",
        "`Using Multiple Iterables:-`\n",
        "If you pass multiple iterables, map() applies the function to items from all iterables in parallel (stopping at the shortest iterable).\n",
        "a = [1, 2, 3]\n",
        "b = [10, 20, 30]\n",
        "result = map(lambda x, y: x + y, a, b)\n",
        "print(list(result))\n",
        "\n",
        "`With Built-in Functions:-`\n",
        "words = [\"10\", \"20\", \"30\"]\n",
        "nums = list(map(int, words)) #Convert strings to integers\n",
        "print(nums)\n",
        "\n",
        "Q:10. What is the difference between `map()`, `reduce()`, and `filter()` functions in Python?\n",
        "ANS:1)map():\n",
        "Purpose: Apply a function to each item in an iterable.\n",
        "Output: A new iterable (map object) with transformed items.\n",
        "nums = [1, 2, 3, 4]\n",
        "result = map(lambda x: x**2, nums)\n",
        "print(list(result))\n",
        "\n",
        "2)filter():\n",
        "Purpose: Select items from an iterable that satisfy a condition (True/False).\n",
        "Output: A new iterable (filter object) with only items that match the condition.\n",
        "nums = [1, 2, 3, 4, 5, 6]\n",
        "result = filter(lambda x: x % 2 == 0, nums)\n",
        "print(list(result))\n",
        "\n",
        "3)reduce():\n",
        "Purpose: Apply a function cumulatively to the items of an iterable, reducing it to a single value.\n",
        "Output: A single result (not an iterable).\n",
        "from functools import reduce\n",
        "nums = [1, 2, 3, 4]\n",
        "result = reduce(lambda x, y: x + y, nums)\n",
        "print(result)\n",
        "\n",
        "Q:11. Using pen & Paper write the internal mechanism for sum operation using  reduce function on this given\n",
        "list:[47,11,42,13];\n",
        "ANS:from functools import reduce\n",
        "reduce(lambda x, y: x + y, [47, 11, 42, 13])\n",
        "HERE:Initial list: [47, 11, 42, 13]\n",
        "Function: lambda x, y: x + y\n",
        "STEP-1:\n",
        "Take first two elements: 47 and 11\n",
        "Apply function: 47 + 11 = 58\n",
        "Result is:58\n",
        "STEP-2:\n",
        "Take(result)58 and next element 42\n",
        "Apply function: 58 + 42 = 100\n",
        "Result is:100\n",
        "STEP-3:\n",
        "Take(result)100 and next element 13\n",
        "Apply function: 100 + 13 = 113\n",
        "Result is = 113\n",
        " Final Result:No more elements left.\n",
        "Final result = 113\n",
        ":-Internal Sequence Visualization\n",
        "Step 1: (47 + 11) = 58\n",
        "Step 2: (58 + 42) = 100\n",
        "Step 3: (100 + 13) = 113\n",
        "Final Answer: reduce(lambda x, y: x + y, [47, 11, 42, 13]) = 113\n"
      ],
      "metadata": {
        "id": "22RVosqJOZNF"
      }
    },
    {
      "cell_type": "markdown",
      "source": [
        "**PRACTICAL QUESTIONS:-**"
      ],
      "metadata": {
        "id": "FEBdwU9hY-1-"
      }
    },
    {
      "cell_type": "code",
      "source": [
        "# 1. Write a Python function that takes a list of numbers as input and returns the sum of all even numbers in the list.\n",
        "def sum_even_numbers(numbers):\n",
        "    return sum(filter(lambda x: x % 2 == 0, numbers))"
      ],
      "metadata": {
        "id": "QIp4BN_7x0Ql"
      },
      "execution_count": null,
      "outputs": []
    },
    {
      "cell_type": "code",
      "source": [
        "sum_even_numbers([2,4,5,8,5,8,9])\n"
      ],
      "metadata": {
        "colab": {
          "base_uri": "https://localhost:8080/"
        },
        "id": "yPSza7NuzjW7",
        "outputId": "318a351c-c6c9-490b-95f2-8cf4eeda113a"
      },
      "execution_count": null,
      "outputs": [
        {
          "output_type": "execute_result",
          "data": {
            "text/plain": [
              "22"
            ]
          },
          "metadata": {},
          "execution_count": 34
        }
      ]
    },
    {
      "cell_type": "code",
      "source": [
        "# 2. Create a Python function that accepts a string and returns the reverse of that string.\n",
        "def reverse_string(text):\n",
        "  return \"\".join(map(lambda ch: ch, reversed(text)))\n",
        "input_str = \"Python\"\n",
        "print(\"Original:\", input_str)\n",
        "print(\"Reversed:\", reverse_string(input_str))\n"
      ],
      "metadata": {
        "colab": {
          "base_uri": "https://localhost:8080/"
        },
        "id": "3rZfnzyNyCeP",
        "outputId": "8612a9b7-09e1-44a3-c5ac-0cddbcfbf863"
      },
      "execution_count": null,
      "outputs": [
        {
          "output_type": "stream",
          "name": "stdout",
          "text": [
            "Original: Python\n",
            "Reversed: nohtyP\n"
          ]
        }
      ]
    },
    {
      "cell_type": "code",
      "source": [
        "#3. Implement a Python function that takes a list of integers and returns a new list containing the squares of each number.\n",
        "def square_numbers(numbers):\n",
        "    return list(map(lambda x: x ** 2, numbers))\n",
        "    squares = []\n",
        "    for num in numbers:\n",
        "        squares.append(num ** 2)\n",
        "    return squares"
      ],
      "metadata": {
        "id": "cdQe4Hu3yL6v"
      },
      "execution_count": null,
      "outputs": []
    },
    {
      "cell_type": "code",
      "source": [
        "square_numbers([9,8,7,6,5])"
      ],
      "metadata": {
        "colab": {
          "base_uri": "https://localhost:8080/"
        },
        "id": "H5n2FusG0bvL",
        "outputId": "2a34ecaf-e7c9-4851-bada-c9ec83418b8f"
      },
      "execution_count": null,
      "outputs": [
        {
          "output_type": "execute_result",
          "data": {
            "text/plain": [
              "[81, 64, 49, 36, 25]"
            ]
          },
          "metadata": {},
          "execution_count": 40
        }
      ]
    },
    {
      "cell_type": "code",
      "source": [
        "# 4. Write a Python function that checks if a given number is prime or not from 1 to 200.\n",
        "is_prime = lambda n: n > 1 and all(map(lambda i: n % i != 0, range(2, int(n**0.5) + 1)))\n",
        "primes = list(filter(is_prime, range(1, 201)))\n",
        "print(\"Prime numbers between 1 and 200:\")\n",
        "print(primes)\n"
      ],
      "metadata": {
        "id": "yv0N2FB0yWxG",
        "colab": {
          "base_uri": "https://localhost:8080/"
        },
        "outputId": "d14bb780-d20c-447f-9434-54f2fcae7fb7"
      },
      "execution_count": null,
      "outputs": [
        {
          "output_type": "stream",
          "name": "stdout",
          "text": [
            "Prime numbers between 1 and 200:\n",
            "[2, 3, 5, 7, 11, 13, 17, 19, 23, 29, 31, 37, 41, 43, 47, 53, 59, 61, 67, 71, 73, 79, 83, 89, 97, 101, 103, 107, 109, 113, 127, 131, 137, 139, 149, 151, 157, 163, 167, 173, 179, 181, 191, 193, 197, 199]\n"
          ]
        }
      ]
    },
    {
      "cell_type": "code",
      "source": [
        "# 5.Create an iterator class in Python that generates the Fibonacci sequence up to a specified number of terms.\n",
        "class FibonacciIterator:\n",
        "    def __init__(self, n_terms):\n",
        "        self.n_terms = n_terms\n",
        "        self.count = 0\n",
        "        self.a, self.b = 0, 1\n",
        "\n",
        "    def __iter__(self):\n",
        "        return self\n",
        "\n",
        "    def __next__(self):\n",
        "        if self.count < self.n_terms:\n",
        "            result = self.a\n",
        "            self.a, self.b = self.b, self.a + self.b\n",
        "            self.count += 1\n",
        "            return result\n",
        "        else:\n",
        "            raise StopIteration\n",
        "fib = FibonacciIterator(10)\n",
        "fib_list = list(fib)\n",
        "print(\"Fibonacci sequence:\", fib_list)"
      ],
      "metadata": {
        "colab": {
          "base_uri": "https://localhost:8080/"
        },
        "id": "HXWTYTy0yZww",
        "outputId": "10d0f5ac-9b41-40e4-b735-2924cd76fb21"
      },
      "execution_count": null,
      "outputs": [
        {
          "output_type": "stream",
          "name": "stdout",
          "text": [
            "Fibonacci sequence: [0, 1, 1, 2, 3, 5, 8, 13, 21, 34]\n"
          ]
        }
      ]
    },
    {
      "cell_type": "code",
      "source": [
        "#6. Write a generator function in Python that yields the powers of 2 up to a given exponent.\n",
        "def powers_of_two(n):\n",
        "    yield from map(lambda x: 2 ** x, range(n + 1))\n",
        "for val in powers_of_two(8):\n",
        "    print(val, end=\" \")"
      ],
      "metadata": {
        "id": "0u6uzzORyld6",
        "colab": {
          "base_uri": "https://localhost:8080/"
        },
        "outputId": "cc5cb85e-056a-4fd1-9e1b-d3951bd14386"
      },
      "execution_count": null,
      "outputs": [
        {
          "output_type": "stream",
          "name": "stdout",
          "text": [
            "1 2 4 8 16 32 64 128 256 "
          ]
        }
      ]
    },
    {
      "cell_type": "code",
      "source": [
        "# 7. Implement a generator function that reads a file line by line and yields each line as a string.\n",
        "def read_file_line_by_line(filename):\n",
        "    with open(filename, \"r\") as file:\n",
        "        for line in file:\n",
        "            yield line.strip()\n",
        "with open(\"sample.txt\", \"w\") as f:\n",
        "    f.write(\"Python is fun\\n\")\n",
        "    f.write(\"Generators are powerful\\n\")\n",
        "    f.write(\"Map and Lambda are useful\\n\")\n",
        "gen = read_file_line_by_line(\"sample.txt\")\n",
        "mapped_gen = map(lambda line: line.upper(), gen)\n",
        "for line in mapped_gen:\n",
        "    print(line)"
      ],
      "metadata": {
        "colab": {
          "base_uri": "https://localhost:8080/"
        },
        "id": "QyaRKnb7ciG7",
        "outputId": "7d8d004a-b214-48af-893e-04a0e04fed43"
      },
      "execution_count": null,
      "outputs": [
        {
          "output_type": "stream",
          "name": "stdout",
          "text": [
            "PYTHON IS FUN\n",
            "GENERATORS ARE POWERFUL\n",
            "MAP AND LAMBDA ARE USEFUL\n"
          ]
        }
      ]
    },
    {
      "cell_type": "code",
      "source": [
        "#8. Use a lambda function in Python to sort a list of tuples based on the second element of each tuple.\n",
        "data = [(1, 5), (3, 2), (2, 8), (4, 1)]\n",
        "sorted_data = sorted(data, key=lambda x: x[1])\n",
        "print(sorted_data)"
      ],
      "metadata": {
        "colab": {
          "base_uri": "https://localhost:8080/"
        },
        "id": "iZIbbo9vy4yo",
        "outputId": "6c4bedc4-f75e-4e2f-f368-b691d29417cd"
      },
      "execution_count": null,
      "outputs": [
        {
          "output_type": "stream",
          "name": "stdout",
          "text": [
            "[(4, 1), (3, 2), (1, 5), (2, 8)]\n"
          ]
        }
      ]
    },
    {
      "cell_type": "code",
      "source": [
        "# 9. Write a Python program that uses `map()` to convert a list of temperatures from Celsius to Fahrenheit.\n",
        "celsius = [0, 20, 37, 100]\n",
        "fahrenheit = map(lambda c: (c * 9/5) + 32, celsius)\n",
        "print(list(fahrenheit))"
      ],
      "metadata": {
        "id": "cvbrF-MszCVp",
        "colab": {
          "base_uri": "https://localhost:8080/"
        },
        "outputId": "a6fa01be-7613-4432-8465-cbaa07a990e6"
      },
      "execution_count": null,
      "outputs": [
        {
          "output_type": "stream",
          "name": "stdout",
          "text": [
            "[32.0, 68.0, 98.6, 212.0]\n"
          ]
        }
      ]
    },
    {
      "cell_type": "code",
      "source": [
        "#10. Create a Python program that uses `filter()` to remove all the vowels from a given string.\n",
        "def remove_vowels_with_filter(text):\n",
        "    vowels = \"aeiouAEIOU\"\n",
        "    return \"\".join(filter(lambda ch: ch not in vowels, text))\n",
        "def remove_vowels_with_map(text):\n",
        "    vowels = \"aeiouAEIOU\"\n",
        "    return \"\".join(map(lambda ch: \"\" if ch in vowels else ch, text))\n",
        "input_str = \"Hello World, Python is Amazing!\"\n",
        "print(\"Original:\", input_str)\n",
        "print(\"Without vowels (filter):\", remove_vowels_with_filter(input_str))\n",
        "print(\"Without vowels (map):\", remove_vowels_with_map(input_str))\n"
      ],
      "metadata": {
        "id": "gYiKG9RHzOb8",
        "colab": {
          "base_uri": "https://localhost:8080/"
        },
        "outputId": "57eba4fa-11ff-43ce-9527-6bbe5369e0b6"
      },
      "execution_count": null,
      "outputs": [
        {
          "output_type": "stream",
          "name": "stdout",
          "text": [
            "Original: Hello World, Python is Amazing!\n",
            "Without vowels (filter): Hll Wrld, Pythn s mzng!\n",
            "Without vowels (map): Hll Wrld, Pythn s mzng!\n"
          ]
        }
      ]
    },
    {
      "cell_type": "code",
      "source": [
        "#ANSWER.11:-\n",
        "orders = [\n",
        "    [\"34587\", \"Learning Python, Mark Lutz\", 4, 40.95],\n",
        "    [\"98762\", \"Programming Python, Mark Lutz\", 5, 56.80],\n",
        "    [\"77226\", \"Head First Python, Paul Barry\", 3, 32.95],\n",
        "    [\"88112\", \"Python Cookbook, David Beazley\", 3, 24.99]\n",
        "]\n",
        "result = list(map(lambda x: (x[0], x[2] * x[3] + 10 if x[2] * x[3] < 100 else x[2] * x[3]), orders))\n",
        "print(result)"
      ],
      "metadata": {
        "colab": {
          "base_uri": "https://localhost:8080/"
        },
        "id": "dGBvX7QKx6uK",
        "outputId": "f1ed146d-727f-45cf-e012-902e32e17edf"
      },
      "execution_count": null,
      "outputs": [
        {
          "output_type": "stream",
          "name": "stdout",
          "text": [
            "[('34587', 163.8), ('98762', 284.0), ('77226', 108.85000000000001), ('88112', 84.97)]\n"
          ]
        }
      ]
    }
  ]
}